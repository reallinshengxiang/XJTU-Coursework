{
 "cells": [
  {
   "cell_type": "code",
   "execution_count": 10,
   "metadata": {},
   "outputs": [],
   "source": [
    "import numpy as np\n",
    "import configs\n",
    "import utils\n",
    "from matplotlib import pyplot as plt"
   ]
  },
  {
   "cell_type": "markdown",
   "metadata": {},
   "source": [
    "引用库"
   ]
  },
  {
   "cell_type": "code",
   "execution_count": 11,
   "metadata": {},
   "outputs": [],
   "source": [
    "female_male=configs.initial_female_male\n",
    "State_male=np.zeros(configs.Max_age)\n",
    "State_female=np.zeros(configs.Max_age)\n",
    "Y=np.zeros(configs.Max_impacts)\n",
    "P_male=np.zeros([configs.Max_age,configs.Max_age])\n",
    "P_female=np.zeros([configs.Max_age,configs.Max_age])\n",
    "\n",
    "State_male,State_female=utils.init_param(State_male,State_female)\n",
    "\n",
    "male=[]\n",
    "female=[]\n",
    "total=[]\n",
    "\n",
    "for year in range(50):\n",
    "    female_male=utils.cal_male_female(State_male,State_female)\n",
    "    P_male,P_female=utils.update_param(female_male,P_male,P_female)\n",
    "    State_male,State_female=utils.transition(State_male,State_female,\\\n",
    "        P_male,P_female)\n",
    "    male.append(int(np.sum(State_male)))\n",
    "    female.append(int(np.sum(State_female)))\n",
    "    total.append(int(np.sum(State_male))+int(np.sum(State_female)))\n",
    "\n",
    "total_1=total"
   ]
  },
  {
   "cell_type": "markdown",
   "metadata": {},
   "source": [
    "Q1 的环境"
   ]
  },
  {
   "cell_type": "code",
   "execution_count": 12,
   "metadata": {},
   "outputs": [],
   "source": [
    "female_male=configs.initial_female_male\n",
    "State_male=np.zeros(configs.Max_age)\n",
    "State_female=np.zeros(configs.Max_age)\n",
    "Y=np.zeros(configs.Max_impacts)\n",
    "P_male=np.zeros([configs.Max_age,configs.Max_age])\n",
    "P_female=np.zeros([configs.Max_age,configs.Max_age])\n",
    "Q_male=np.zeros([configs.Max_age,configs.Max_impacts])\n",
    "Q_female=np.zeros([configs.Max_age,configs.Max_impacts])\n",
    "\n",
    "State_male,State_female=utils.init_param(State_male,State_female,\\\n",
    "    number=configs.initial_number_Yangtze_River,\\\n",
    "        female_male=configs.female_male_birth_Yangtze_River)\n",
    "\n",
    "male=[]\n",
    "female=[]\n",
    "total=[]\n",
    "\n",
    "for year in range(30):\n",
    "    female_male=utils.cal_male_female(State_male,State_female)\n",
    "    P_male,P_female=utils.update_param(female_male,P_male,P_female,survive_index=1,\\\n",
    "        pollution_impact=configs.water_pollution_survive_rate,\\\n",
    "            noise_impact=configs.water_noise_survive_rate,\\\n",
    "                artificial_impact=configs.artificial_survive_rate)\n",
    "    State_male,State_female=utils.transition(State_male,State_female,\\\n",
    "        P_male,P_female,female_birth=configs.female_male_birth_Yangtze_River)\n",
    "    male.append(int(np.sum(State_male)))\n",
    "    female.append(int(np.sum(State_female)))\n",
    "    total.append(int(np.sum(State_male))+int(np.sum(State_female)))\n",
    "\n",
    "total_2=total"
   ]
  },
  {
   "cell_type": "markdown",
   "metadata": {},
   "source": [
    "Q2 的环境"
   ]
  },
  {
   "cell_type": "code",
   "execution_count": 14,
   "metadata": {},
   "outputs": [
    {
     "data": {
      "image/png": "[encoded data removed]",
      "text/plain": [
       "<Figure size 432x288 with 1 Axes>"
      ]
     },
     "metadata": {
      "needs_background": "light"
     },
     "output_type": "display_data"
    }
   ],
   "source": [
    "plt.xlabel('Time/year')\n",
    "plt.ylabel('Number')\n",
    "utils.draw_smooth_graph(total_1,name='Number in reserve',start_year=2015)\n",
    "utils.draw_smooth_graph(total_2,name='Number in Yangtze River',start_year=2021)\n",
    "plt.legend()\n",
    "plt.savefig('.\\\\pic\\\\Q3_长江和保护区的对比_Version_0.1.png')"
   ]
  }
 ],
 "metadata": {
  "interpreter": {
   "hash": "63e650fb36ed720dc36fdf623c23347fb77e508e7c889bc6e12b97ccbda9f5eb"
  },
  "kernelspec": {
   "display_name": "Python 3.9.9 64-bit (windows store)",
   "language": "python",
   "name": "python3"
  },
  "language_info": {
   "codemirror_mode": {
    "name": "ipython",
    "version": 3
   },
   "file_extension": ".py",
   "mimetype": "text/x-python",
   "name": "python",
   "nbconvert_exporter": "python",
   "pygments_lexer": "ipython3",
   "version": "3.9.9"
  },
  "orig_nbformat": 4
 },
 "nbformat": 4,
 "nbformat_minor": 2
}
